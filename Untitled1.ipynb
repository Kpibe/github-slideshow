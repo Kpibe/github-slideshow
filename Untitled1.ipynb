{
  "nbformat": 4,
  "nbformat_minor": 0,
  "metadata": {
    "colab": {
      "provenance": []
    },
    "kernelspec": {
      "name": "python3",
      "display_name": "Python 3"
    },
    "language_info": {
      "name": "python"
    }
  },
  "cells": [
    {
      "cell_type": "code",
      "source": [
        "import pandas as pd\n",
        "\n",
        "def calculate_demographic_data(print_data=True):\n",
        "    # Leer los datos desde el archivo CSV\n",
        "    df = pd.read_csv(\"adult.data.csv\")\n",
        "\n",
        "    # ¿Cuántas personas de cada raza están representadas en este set de datos?\n",
        "    race_count = df[\"race\"].value_counts()\n",
        "\n",
        "    # ¿Cuál es la edad promedio de los hombres?\n",
        "    average_age_men = round(df[df[\"sex\"] == \"Male\"][\"age\"].mean(), 1)\n",
        "\n",
        "    # ¿Cuál es el porcentaje de personas que tienen un grado de licenciatura?\n",
        "    percentage_bachelors = round((df[\"education\"] == \"Bachelors\").mean() * 100, 1)\n",
        "\n",
        "    # ¿Qué porcentaje de personas con educación avanzada ganan más de 50k?\n",
        "    higher_education = df[\"education\"].isin([\"Bachelors\", \"Masters\", \"Doctorate\"])\n",
        "    higher_education_rich = round((df[higher_education][\"salary\"] == \">50K\").mean() * 100, 1)\n",
        "\n",
        "    # ¿Qué porcentaje de personas sin educación avanzada ganan más de 50k?\n",
        "    lower_education = ~higher_education\n",
        "    lower_education_rich = round((df[lower_education][\"salary\"] == \">50K\").mean() * 100, 1)\n",
        "\n",
        "    # ¿Cuál es el mínimo número de horas que una persona trabaja por semana?\n",
        "    min_work_hours = df[\"hours-per-week\"].min()\n",
        "\n",
        "    # ¿Qué porcentaje de personas que trabajan el mínimo de horas por semana tienen un salario de más de 50k?\n",
        "    min_workers = df[df[\"hours-per-week\"] == min_work_hours]\n",
        "    rich_percentage = round((min_workers[\"salary\"] == \">50K\").mean() * 100, 1)\n",
        "\n",
        "    # ¿Qué país tiene el mayor porcentaje de personas que ganan más de 50k?\n",
        "    country_stats = df.groupby(\"native-country\")[\"salary\"].apply(lambda x: (x == \">50K\").mean() * 100)\n",
        "    highest_earning_country = country_stats.idxmax()\n",
        "    highest_earning_country_percentage = round(country_stats.max(), 1)\n",
        "\n",
        "    # Identifica la ocupación más popular de aquellos que ganan más de 50k en India.\n",
        "    top_IN_occupation = df[(df[\"native-country\"] == \"India\") & (df[\"salary\"] == \">50K\")][\"occupation\"].mode()[0]\n",
        "\n",
        "    # Imprimir los resultados si print_data es True\n",
        "    if print_data:\n",
        "        print(\"Number of each race:\", race_count)\n",
        "        print(\"Average age of men:\", average_age_men)\n",
        "        print(\"Percentage with Bachelors degrees:\", percentage_bachelors)\n",
        "        print(\"Percentage with higher education that earn >50K:\", higher_education_rich)\n",
        "        print(\"Percentage without higher education that earn >50K:\", lower_education_rich)\n",
        "        print(\"Min work time:\", min_work_hours, \"hours/week\")\n",
        "        print(\"Percentage of rich among those who work fewest hours:\", rich_percentage)\n",
        "        print(\"Country with highest percentage of rich:\", highest_earning_country)\n",
        "        print(\"Highest percentage of rich people in country:\", highest_earning_country_percentage)\n",
        "        print(\"Top occupations in India:\", top_IN_occupation)\n",
        "\n",
        "    return {\n",
        "        'race_count': race_count,\n",
        "        'average_age_men': average_age_men,\n",
        "        'percentage_bachelors': percentage_bachelors,\n",
        "        'higher_education_rich': higher_education_rich,\n",
        "        'lower_education_rich': lower_education_rich,\n",
        "        'min_work_hours': min_work_hours,\n",
        "        'rich_percentage': rich_percentage,\n",
        "        'highest_earning_country': highest_earning_country,\n",
        "        'highest_earning_country_percentage': highest_earning_country_percentage,\n",
        "        'top_IN_occupation': top_IN_occupation\n",
        "    }\n",
        "\n",
        "# Ejecutar la función para probar\n",
        "if __name__ == \"__main__\":\n",
        "    calculate_demographic_data()\n"
      ],
      "metadata": {
        "id": "C4GtGs41vkKz"
      },
      "execution_count": null,
      "outputs": []
    },
    {
      "cell_type": "code",
      "source": [],
      "metadata": {
        "id": "7hgHhEK8nAGE"
      },
      "execution_count": null,
      "outputs": []
    }
  ]
}