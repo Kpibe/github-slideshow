{
  "nbformat": 4,
  "nbformat_minor": 0,
  "metadata": {
    "colab": {
      "provenance": []
    },
    "kernelspec": {
      "name": "python3",
      "display_name": "Python 3"
    },
    "language_info": {
      "name": "python"
    }
  },
  "cells": [
    {
      "cell_type": "code",
      "source": [
        "import matplotlib.pyplot as plt\n",
        "import pandas as pd\n",
        "import seaborn as sns\n",
        "\n",
        "def draw_line_plot():\n",
        "    # Import data\n",
        "    df = pd.read_csv(\"fcc-forum-pageviews.csv\", parse_dates=[\"date\"], index_col=\"date\")\n",
        "\n",
        "    # Clean data\n",
        "    df = df[(df[\"value\"] >= df[\"value\"].quantile(0.025)) & (df[\"value\"] <= df[\"value\"].quantile(0.975))]\n",
        "\n",
        "    # Draw line plot\n",
        "    fig, ax = plt.subplots(figsize=(12, 6))\n",
        "    ax.plot(df.index, df[\"value\"], color='red', linewidth=1)\n",
        "    ax.set_title(\"Daily freeCodeCamp Forum Page Views 5/2016-12/2019\")\n",
        "    ax.set_xlabel(\"Date\")\n",
        "    ax.set_ylabel(\"Page Views\")\n",
        "\n",
        "    # Save image\n",
        "    fig.savefig('line_plot.png')\n",
        "    return fig\n",
        "\n",
        "def draw_bar_plot():\n",
        "    # Import data\n",
        "    df = pd.read_csv(\"fcc-forum-pageviews.csv\", parse_dates=[\"date\"], index_col=\"date\")\n",
        "    df = df[(df[\"value\"] >= df[\"value\"].quantile(0.025)) & (df[\"value\"] <= df[\"value\"].quantile(0.975))]\n",
        "\n",
        "    # Prepare data for bar plot\n",
        "    df[\"year\"] = df.index.year\n",
        "    df[\"month\"] = df.index.month\n",
        "    df_bar = df.groupby([\"year\", \"month\"])[\"value\"].mean().unstack()\n",
        "\n",
        "    # Draw bar plot\n",
        "    fig = df_bar.plot(kind=\"bar\", figsize=(12, 6)).figure\n",
        "    plt.xlabel(\"Years\")\n",
        "    plt.ylabel(\"Average Page Views\")\n",
        "    plt.legend(title=\"Months\", labels=[\"Jan\", \"Feb\", \"Mar\", \"Apr\", \"May\", \"Jun\", \"Jul\", \"Aug\", \"Sep\", \"Oct\", \"Nov\", \"Dec\"])\n",
        "    plt.title(\"Average Daily Page Views per Month\")\n",
        "\n",
        "    # Save image\n",
        "    fig.savefig('bar_plot.png')\n",
        "    return fig\n",
        "\n",
        "def draw_box_plot():\n",
        "    # Import data\n",
        "    df = pd.read_csv(\"fcc-forum-pageviews.csv\", parse_dates=[\"date\"], index_col=\"date\")\n",
        "    df = df[(df[\"value\"] >= df[\"value\"].quantile(0.025)) & (df[\"value\"] <= df[\"value\"].quantile(0.975))]\n",
        "\n",
        "    # Prepare data for box plots\n",
        "    df[\"year\"] = df.index.year\n",
        "    df[\"month\"] = df.index.strftime('%b')\n",
        "    months_order = [\"Jan\", \"Feb\", \"Mar\", \"Apr\", \"May\", \"Jun\", \"Jul\", \"Aug\", \"Sep\", \"Oct\", \"Nov\", \"Dec\"]\n",
        "\n",
        "    # Draw box plots\n",
        "    fig, axes = plt.subplots(1, 2, figsize=(15, 6))\n",
        "\n",
        "    sns.boxplot(x=\"year\", y=\"value\", data=df, ax=axes[0])\n",
        "    axes[0].set_title(\"Year-wise Box Plot (Trend)\")\n",
        "    axes[0].set_xlabel(\"Year\")\n",
        "    axes[0].set_ylabel(\"Page Views\")\n",
        "\n",
        "    sns.boxplot(x=\"month\", y=\"value\", data=df, order=months_order, ax=axes[1])\n",
        "    axes[1].set_title(\"Month-wise Box Plot (Seasonality)\")\n",
        "    axes[1].set_xlabel(\"Month\")\n",
        "    axes[1].set_ylabel(\"Page Views\")\n",
        "\n",
        "    # Save image\n",
        "    fig.savefig('box_plot.png')\n",
        "    return fig\n"
      ],
      "metadata": {
        "id": "5EbITTSUyU5a"
      },
      "execution_count": null,
      "outputs": []
    }
  ]
}