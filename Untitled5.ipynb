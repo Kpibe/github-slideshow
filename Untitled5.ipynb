{
  "nbformat": 4,
  "nbformat_minor": 0,
  "metadata": {
    "colab": {
      "provenance": []
    },
    "kernelspec": {
      "name": "python3",
      "display_name": "Python 3"
    },
    "language_info": {
      "name": "python"
    }
  },
  "cells": [
    {
      "cell_type": "code",
      "source": [
        "import pandas as pd\n",
        "import matplotlib.pyplot as plt\n",
        "from scipy.stats import linregress\n",
        "\n",
        "def draw_plot():\n",
        "    # Importar datos\n",
        "    df = pd.read_csv(\"epa-sea-level.csv\")\n",
        "\n",
        "    # Crear el gráfico de dispersión\n",
        "    plt.figure(figsize=(10, 5))\n",
        "    plt.scatter(df[\"Year\"], df[\"CSIRO Adjusted Sea Level\"], label=\"Datos originales\")\n",
        "\n",
        "    # Ajuste de regresión lineal para todos los datos\n",
        "    slope_all, intercept_all, _, _, _ = linregress(df[\"Year\"], df[\"CSIRO Adjusted Sea Level\"])\n",
        "    years_extended = range(1880, 2051)\n",
        "    plt.plot(years_extended, intercept_all + slope_all * pd.Series(years_extended), 'r', label=\"Ajuste desde 1880\")\n",
        "\n",
        "    # Ajuste de regresión lineal desde el año 2000\n",
        "    df_recent = df[df[\"Year\"] >= 2000]\n",
        "    slope_recent, intercept_recent, _, _, _ = linregress(df_recent[\"Year\"], df_recent[\"CSIRO Adjusted Sea Level\"])\n",
        "    years_recent = range(2000, 2051)\n",
        "    plt.plot(years_recent, intercept_recent + slope_recent * pd.Series(years_recent), 'g', label=\"Ajuste desde 2000\")\n",
        "\n",
        "    # Etiquetas y título\n",
        "    plt.xlabel(\"Year\")\n",
        "    plt.ylabel(\"Sea Level (inches)\")\n",
        "    plt.title(\"Rise in Sea Level\")\n",
        "    plt.legend()\n",
        "\n",
        "    # Guardar la imagen\n",
        "    plt.savefig(\"sea_level_plot.png\")\n",
        "    return plt\n"
      ],
      "metadata": {
        "id": "a-pO4Tf6zVAf"
      },
      "execution_count": null,
      "outputs": []
    }
  ]
}