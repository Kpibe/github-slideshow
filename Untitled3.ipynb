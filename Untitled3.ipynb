{
  "nbformat": 4,
  "nbformat_minor": 0,
  "metadata": {
    "colab": {
      "provenance": []
    },
    "kernelspec": {
      "name": "python3",
      "display_name": "Python 3"
    },
    "language_info": {
      "name": "python"
    }
  },
  "cells": [
    {
      "cell_type": "code",
      "source": [
        "import pandas as pd\n",
        "import seaborn as sns\n",
        "import matplotlib.pyplot as plt\n",
        "import numpy as np\n",
        "\n",
        "# Import data\n",
        "df = pd.read_csv(\"medical_examination.csv\")\n",
        "\n",
        "# 1️⃣ Add an 'overweight' column (BMI > 25 is overweight)\n",
        "df['BMI'] = df['weight'] / (df['height'] / 100) ** 2\n",
        "df['overweight'] = (df['BMI'] > 25).astype(int)\n",
        "df.drop(columns=['BMI'], inplace=True)  # Remove the temporary BMI column\n",
        "\n",
        "# 2️⃣ Normalize 'cholesterol' and 'gluc' (1 → 0, >1 → 1)\n",
        "df['cholesterol'] = (df['cholesterol'] > 1).astype(int)\n",
        "df['gluc'] = (df['gluc'] > 1).astype(int)\n",
        "\n",
        "# 📊 Function to draw categorical plot\n",
        "def draw_cat_plot():\n",
        "    # 3️⃣ Create DataFrame for categorical plot\n",
        "    df_cat = pd.melt(df, id_vars=['cardio'],\n",
        "                      value_vars=['cholesterol', 'gluc', 'smoke', 'alco', 'active', 'overweight'])\n",
        "\n",
        "    # 4️⃣ Draw the categorical plot\n",
        "    catplot = sns.catplot(\n",
        "        x=\"variable\", hue=\"value\", col=\"cardio\", data=df_cat, kind=\"count\", height=5, aspect=1\n",
        "    )\n",
        "\n",
        "    # 5️⃣ Get the figure\n",
        "    fig = catplot.fig\n",
        "\n",
        "    return fig\n",
        "\n",
        "# 📈 Function to draw heatmap\n",
        "def draw_heat_map():\n",
        "    # 6️⃣ Clean the data\n",
        "    df_heat = df[\n",
        "        (df['ap_lo'] <= df['ap_hi']) &\n",
        "        (df['height'] >= df['height'].quantile(0.025)) &\n",
        "        (df['height'] <= df['height'].quantile(0.975)) &\n",
        "        (df['weight'] >= df['weight'].quantile(0.025)) &\n",
        "        (df['weight'] <= df['weight'].quantile(0.975))\n",
        "    ]\n",
        "\n",
        "    # 7️⃣ Calculate correlation matrix\n",
        "    corr = df_heat.corr()\n",
        "\n",
        "    # 8️⃣ Generate a mask for the upper triangle\n",
        "    mask = np.triu(np.ones_like(corr, dtype=bool))\n",
        "\n",
        "    # 9️⃣ Set up the matplotlib figure\n",
        "    fig, ax = plt.subplots(figsize=(10, 8))\n",
        "\n",
        "    # 🔟 Draw the heatmap\n",
        "    sns.heatmap(corr, mask=mask, annot=True, fmt=\".1f\", linewidths=0.5, cmap=\"coolwarm\", ax=ax)\n",
        "\n",
        "    return fig\n"
      ],
      "metadata": {
        "id": "7hgHhEK8nAGE"
      },
      "execution_count": null,
      "outputs": []
    }
  ]
}